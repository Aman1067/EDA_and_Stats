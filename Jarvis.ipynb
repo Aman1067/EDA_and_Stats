{
 "cells": [
  {
   "cell_type": "code",
   "execution_count": 7,
   "id": "34e0135d",
   "metadata": {},
   "outputs": [
    {
     "name": "stdout",
     "output_type": "stream",
     "text": [
      "Requirement already satisfied: pyttsx3 in c:\\users\\anshuman\\appdata\\roaming\\python\\python39\\site-packages (2.90)\n",
      "Requirement already satisfied: pywin32 in c:\\users\\anshuman\\anaconda3\\lib\\site-packages (from pyttsx3) (228)\n",
      "Requirement already satisfied: comtypes in c:\\users\\anshuman\\anaconda3\\lib\\site-packages (from pyttsx3) (1.1.10)\n",
      "Requirement already satisfied: pypiwin32 in c:\\users\\anshuman\\appdata\\roaming\\python\\python39\\site-packages (from pyttsx3) (223)\n",
      "Note: you may need to restart the kernel to use updated packages.\n"
     ]
    }
   ],
   "source": [
    "pip install pyttsx3"
   ]
  },
  {
   "cell_type": "code",
   "execution_count": 7,
   "id": "e88f7623",
   "metadata": {},
   "outputs": [],
   "source": [
    "import pyttsx3"
   ]
  },
  {
   "cell_type": "code",
   "execution_count": 8,
   "id": "c3db64fc",
   "metadata": {},
   "outputs": [],
   "source": [
    "engine=pyttsx3.init('sapi5')"
   ]
  },
  {
   "cell_type": "code",
   "execution_count": 9,
   "id": "d9158122",
   "metadata": {},
   "outputs": [],
   "source": [
    "voices=engine.getProperty('voices')"
   ]
  },
  {
   "cell_type": "code",
   "execution_count": 12,
   "id": "698b3f69",
   "metadata": {},
   "outputs": [
    {
     "name": "stdout",
     "output_type": "stream",
     "text": [
      "HKEY_LOCAL_MACHINE\\SOFTWARE\\Microsoft\\Speech\\Voices\\Tokens\\TTS_MS_EN-US_DAVID_11.0\n"
     ]
    }
   ],
   "source": [
    "print(voices[0].id)"
   ]
  },
  {
   "cell_type": "code",
   "execution_count": 11,
   "id": "2c2e41d4",
   "metadata": {},
   "outputs": [],
   "source": [
    "engine.setProperty('voice', voices[0].id)"
   ]
  },
  {
   "cell_type": "code",
   "execution_count": 17,
   "id": "2040ae81",
   "metadata": {},
   "outputs": [],
   "source": [
    "def speak(audio):\n",
    "    engine.say(audio)\n",
    "    engine.runAndWait()"
   ]
  },
  {
   "cell_type": "code",
   "execution_count": 18,
   "id": "79f9ae2e",
   "metadata": {},
   "outputs": [],
   "source": [
    "if __name__=='__main__':\n",
    "    speak('shiva is almighty')"
   ]
  },
  {
   "cell_type": "code",
   "execution_count": null,
   "id": "91d3420f",
   "metadata": {},
   "outputs": [],
   "source": [
    "def wishMe():\n",
    "    hour=int(datetime.datetime.now().hour)\n",
    "    if hour>=0 and hour<12:\n",
    "        speak('Good Morning')\n",
    "    elif hour>=12 and hour<18:\n",
    "        speak('Good Afternoon')\n",
    "    else:\n",
    "        speak('Good Evening')"
   ]
  }
 ],
 "metadata": {
  "kernelspec": {
   "display_name": "Python 3 (ipykernel)",
   "language": "python",
   "name": "python3"
  },
  "language_info": {
   "codemirror_mode": {
    "name": "ipython",
    "version": 3
   },
   "file_extension": ".py",
   "mimetype": "text/x-python",
   "name": "python",
   "nbconvert_exporter": "python",
   "pygments_lexer": "ipython3",
   "version": "3.9.7"
  }
 },
 "nbformat": 4,
 "nbformat_minor": 5
}
